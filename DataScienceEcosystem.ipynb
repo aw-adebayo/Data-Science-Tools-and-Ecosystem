{
 "cells": [
  {
   "cell_type": "markdown",
   "id": "91bf4648-7ff3-47fe-a7e2-1f1cca64afe4",
   "metadata": {},
   "source": [
    "# Data Science Tools and Ecosystem"
   ]
  },
  {
   "cell_type": "markdown",
   "id": "88ec6629-479b-4360-b3d8-ac40f57ca506",
   "metadata": {},
   "source": [
    "In this notebook, Data Science Tools and Ecosystem are summarized"
   ]
  },
  {
   "cell_type": "markdown",
   "id": "e531453d-46df-4096-a276-454b0538cd84",
   "metadata": {},
   "source": [
    "**Objectives:**\n",
    "- Popular language for data science\n",
    "- Common libraries in data science\n",
    "- Evaluating arithmetic expression in Python\n",
    "- Creation of rows in markdown"
   ]
  },
  {
   "cell_type": "markdown",
   "id": "1fec00bf-d2fa-447f-ad7b-62e91b197c25",
   "metadata": {},
   "source": [
    "Some of the popular language that Data Scientist use are:\n",
    "1. Python\n",
    "2. JavaScript\n",
    "3. Java\n",
    "4. R\n",
    "5. SQL\n",
    "6. C/C++\n",
    "7. MATLAB\n",
    "8. Scala\n",
    "9. Julia\n",
    "10. SAS\n"
   ]
  },
  {
   "cell_type": "markdown",
   "id": "5da071a1-cf1a-4870-9a81-6f482be7b1de",
   "metadata": {},
   "source": [
    "Some of the commonly used libraries used by Data Scientist include:\n",
    "1. NumPy\n",
    "2. Keras\n",
    "3. Pandas\n",
    "4. PyTorch\n",
    "5. SciPy"
   ]
  },
  {
   "cell_type": "markdown",
   "id": "2b335523-50d9-474a-8c43-f2c51804bd0f",
   "metadata": {},
   "source": [
    "|Data Science Tools| Apache Spark|IBM SPSS|Julia|Jupyter Notebook|\n",
    "|--------------------|--------------|----------|-------|------------------|"
   ]
  },
  {
   "cell_type": "markdown",
   "id": "eeedf7cb-19b7-424a-b71a-38f2445a5748",
   "metadata": {},
   "source": [
    "### Below are a few examples of evaluating arithmetic expressions in Python"
   ]
  },
  {
   "cell_type": "code",
   "execution_count": 1,
   "id": "a785f70d-84cd-4b3e-a1e0-775c7ecb624b",
   "metadata": {},
   "outputs": [
    {
     "data": {
      "text/plain": [
       "17"
      ]
     },
     "execution_count": 1,
     "metadata": {},
     "output_type": "execute_result"
    }
   ],
   "source": [
    "#This is a simple arithmetic expression to multiply then add integers\n",
    "(3*4)+5"
   ]
  },
  {
   "cell_type": "code",
   "execution_count": 2,
   "id": "ac255d98-6a1a-4fbf-90be-c63855822555",
   "metadata": {},
   "outputs": [
    {
     "data": {
      "text/plain": [
       "3.3333333333333335"
      ]
     },
     "execution_count": 2,
     "metadata": {},
     "output_type": "execute_result"
    }
   ],
   "source": [
    "#This will convert 200 minutes to hours by dividing by 60\n",
    "200/60"
   ]
  },
  {
   "cell_type": "markdown",
   "id": "9d8e4e83-de53-4985-aef2-6786f6d7137e",
   "metadata": {},
   "source": [
    "## Author\n",
    "Adewale Adebayo"
   ]
  },
  {
   "cell_type": "code",
   "execution_count": null,
   "id": "8a8f3266-56ad-4363-9488-6d1683fa2cfa",
   "metadata": {},
   "outputs": [],
   "source": []
  }
 ],
 "metadata": {
  "kernelspec": {
   "display_name": "Python",
   "language": "python",
   "name": "conda-env-python-py"
  },
  "language_info": {
   "codemirror_mode": {
    "name": "ipython",
    "version": 3
   },
   "file_extension": ".py",
   "mimetype": "text/x-python",
   "name": "python",
   "nbconvert_exporter": "python",
   "pygments_lexer": "ipython3",
   "version": "3.7.12"
  }
 },
 "nbformat": 4,
 "nbformat_minor": 5
}
